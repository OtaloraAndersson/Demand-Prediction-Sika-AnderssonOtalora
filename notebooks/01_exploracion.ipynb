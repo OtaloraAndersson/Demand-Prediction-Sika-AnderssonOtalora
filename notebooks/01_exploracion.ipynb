{
 "cells": [
  {
   "cell_type": "markdown",
   "id": "b64f0202",
   "metadata": {},
   "source": [
    "# Exploración inicial de ventas\n",
    "\n",
    "Este notebook realiza una exploración de las ventas mensuales totales (2019–2025) usando el archivo de datos exportado de SAP."
   ]
  },
  {
   "cell_type": "code",
   "execution_count": null,
   "id": "b3752878",
   "metadata": {},
   "outputs": [],
   "source": [
    "\n",
    "import pandas as pd\n",
    "import matplotlib.pyplot as plt\n",
    "\n",
    "# Configuración de gráficos en notebooks\n",
    "%matplotlib inline\n"
   ]
  },
  {
   "cell_type": "markdown",
   "id": "eae8369f",
   "metadata": {},
   "source": [
    "## Cargar archivo de datos"
   ]
  },
  {
   "cell_type": "code",
   "execution_count": null,
   "id": "67b4f2dd",
   "metadata": {},
   "outputs": [],
   "source": [
    "\n",
    "# Cargar el archivo de ventas desde la carpeta data/raw/\n",
    "file_path = \"../data/raw/EXPORT_20251001_134920.xlsx\"\n",
    "\n",
    "df = pd.read_excel(file_path, sheet_name=\"Data\")\n",
    "df.head()\n"
   ]
  },
  {
   "cell_type": "markdown",
   "id": "aeb72f47",
   "metadata": {},
   "source": [
    "## Preprocesamiento de datos"
   ]
  },
  {
   "cell_type": "code",
   "execution_count": null,
   "id": "f10f5f7f",
   "metadata": {},
   "outputs": [],
   "source": [
    "\n",
    "# Nos quedamos con columnas relevantes: Fecha y Cantidad\n",
    "df = df[[\"Fecha contabiliz.\", \"Cantidad\"]].copy()\n",
    "\n",
    "# Convertir cantidades negativas en positivas (ventas)\n",
    "df[\"Cantidad\"] = df[\"Cantidad\"].abs()\n",
    "\n",
    "# Asegurar que la fecha es tipo datetime\n",
    "df[\"Fecha contabiliz.\"] = pd.to_datetime(df[\"Fecha contabiliz.\"])\n",
    "\n",
    "df.head()\n"
   ]
  },
  {
   "cell_type": "markdown",
   "id": "c7d09d67",
   "metadata": {},
   "source": [
    "## Agregación mensual de ventas"
   ]
  },
  {
   "cell_type": "code",
   "execution_count": null,
   "id": "85057dc5",
   "metadata": {},
   "outputs": [],
   "source": [
    "\n",
    "# Agrupar ventas por mes\n",
    "ventas_mensuales = df.groupby(pd.Grouper(key=\"Fecha contabiliz.\", freq=\"M\"))[\"Cantidad\"].sum().reset_index()\n",
    "\n",
    "ventas_mensuales.head()\n"
   ]
  },
  {
   "cell_type": "markdown",
   "id": "209c37e9",
   "metadata": {},
   "source": [
    "## Gráfico de ventas mensuales"
   ]
  },
  {
   "cell_type": "code",
   "execution_count": null,
   "id": "fc629752",
   "metadata": {},
   "outputs": [],
   "source": [
    "\n",
    "plt.figure(figsize=(12,6))\n",
    "plt.plot(ventas_mensuales[\"Fecha contabiliz.\"], ventas_mensuales[\"Cantidad\"], marker=\"o\")\n",
    "plt.title(\"Ventas mensuales totales (2019–2025)\")\n",
    "plt.xlabel(\"Fecha\")\n",
    "plt.ylabel(\"Unidades vendidas\")\n",
    "plt.grid(True)\n",
    "\n",
    "# Guardar gráfico en carpeta results/figures/\n",
    "plt.savefig(\"../results/figures/ventas_mensuales.png\")\n",
    "plt.show()\n"
   ]
  },
  {
   "cell_type": "markdown",
   "id": "cb3df857",
   "metadata": {},
   "source": [
    "## Estadísticos básicos"
   ]
  },
  {
   "cell_type": "code",
   "execution_count": null,
   "id": "17fb8165",
   "metadata": {},
   "outputs": [],
   "source": [
    "\n",
    "ventas_mensuales.describe()\n"
   ]
  }
 ],
 "metadata": {},
 "nbformat": 4,
 "nbformat_minor": 5
}
